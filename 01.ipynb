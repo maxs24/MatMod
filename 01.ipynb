{
 "cells": [
  {
   "cell_type": "markdown",
   "id": "1eb83200",
   "metadata": {},
   "source": [
    "## Работа с классами"
   ]
  },
  {
   "cell_type": "code",
   "execution_count": 2,
   "id": "1af6b19f",
   "metadata": {},
   "outputs": [
    {
     "name": "stdout",
     "output_type": "stream",
     "text": [
      "29\n"
     ]
    }
   ],
   "source": [
    "import random # генератор случайных чисел\n",
    "\n",
    "print(random.randint(20,30))"
   ]
  },
  {
   "cell_type": "code",
   "execution_count": 3,
   "id": "1d436efc",
   "metadata": {},
   "outputs": [],
   "source": [
    "class Particle():\n",
    "    \n",
    "    def __init__(self, radius, mass, position):\n",
    "        self.radius = radius\n",
    "        self.mass = mass\n",
    "        self.position = position\n",
    "        \n",
    "    def update(self):\n",
    "        self.position = [random.randint(0,100), random.randint(0,100)]"
   ]
  },
  {
   "cell_type": "code",
   "execution_count": 4,
   "id": "b622b5f7",
   "metadata": {},
   "outputs": [],
   "source": [
    "p1 = Particle(10, 1, [0,0])\n",
    "p2 = Particle(2, 10, [100,100])"
   ]
  },
  {
   "cell_type": "code",
   "execution_count": 5,
   "id": "3bc19ceb",
   "metadata": {},
   "outputs": [
    {
     "name": "stdout",
     "output_type": "stream",
     "text": [
      "[1, 1]\n"
     ]
    }
   ],
   "source": [
    "p1.position = [1,1]\n",
    "print(p1.position)"
   ]
  },
  {
   "cell_type": "code",
   "execution_count": 6,
   "id": "099fc3f8",
   "metadata": {},
   "outputs": [
    {
     "name": "stdout",
     "output_type": "stream",
     "text": [
      "[100, 100]\n",
      "[22, 32]\n"
     ]
    }
   ],
   "source": [
    "print(p2.position)\n",
    "p2.update()\n",
    "print(p2.position)"
   ]
  },
  {
   "cell_type": "code",
   "execution_count": 7,
   "id": "5d7e68fb",
   "metadata": {},
   "outputs": [
    {
     "name": "stdout",
     "output_type": "stream",
     "text": [
      "19\n",
      "[41, 75]\n",
      "[97, 11]\n",
      "[86, 43]\n",
      "[32, 36]\n",
      "[61, 15]\n",
      "[34, 44]\n",
      "[2, 100]\n",
      "[11, 82]\n",
      "[80, 3]\n",
      "[15, 58]\n"
     ]
    }
   ],
   "source": [
    "my_particles = []\n",
    "num = 10\n",
    "\n",
    "for i in range(num):\n",
    "    p = Particle(5, random.randint(10,20), [0,0])\n",
    "    my_particles.append(p)\n",
    "    \n",
    "print(my_particles[4].mass)\n",
    "\n",
    "for i in my_particles:\n",
    "    i.update()\n",
    "    \n",
    "for i in my_particles:\n",
    "    print(i.position)"
   ]
  },
  {
   "cell_type": "markdown",
   "id": "7d81d62d",
   "metadata": {},
   "source": [
    "## Pygame"
   ]
  },
  {
   "cell_type": "markdown",
   "id": "0b2c234b",
   "metadata": {},
   "source": [
    "### Создание окна pygame"
   ]
  },
  {
   "cell_type": "code",
   "execution_count": 8,
   "id": "1f23f428",
   "metadata": {},
   "outputs": [
    {
     "name": "stdout",
     "output_type": "stream",
     "text": [
      "pygame 2.1.2 (SDL 2.0.18, Python 3.10.0)\n",
      "Hello from the pygame community. https://www.pygame.org/contribute.html\n"
     ]
    }
   ],
   "source": [
    "import pygame\n",
    "\n",
    "background_color = (255,255,0)\n",
    "(width, height) = (840, 480)\n",
    "\n",
    "screen = pygame.display.set_mode((width, height))\n",
    "pygame.display.set_caption('Первое окно')\n",
    "\n",
    "running = True\n",
    "while running:\n",
    "    for event in pygame.event.get():\n",
    "        if event.type == pygame.QUIT:\n",
    "            running = False\n",
    "            \n",
    "    screen.fill(background_color)\n",
    "    pygame.display.flip()\n",
    "    \n",
    "pygame.quit()"
   ]
  },
  {
   "cell_type": "code",
   "execution_count": 9,
   "id": "79a34038",
   "metadata": {},
   "outputs": [
    {
     "name": "stdout",
     "output_type": "stream",
     "text": [
      "4\n",
      "5\n"
     ]
    }
   ],
   "source": [
    "a, b = 4, 5\n",
    "\n",
    "print(a)\n",
    "print(b)"
   ]
  },
  {
   "cell_type": "markdown",
   "id": "4fdcaa13",
   "metadata": {},
   "source": [
    "### Добавление графического объекта"
   ]
  },
  {
   "cell_type": "code",
   "execution_count": 10,
   "id": "1b1ea90f",
   "metadata": {},
   "outputs": [],
   "source": [
    "import pygame\n",
    "\n",
    "background_color = (255,255,0)\n",
    "(width, height) = (840, 480)\n",
    "\n",
    "screen = pygame.display.set_mode((width, height))\n",
    "pygame.display.set_caption('Первое окно')\n",
    "\n",
    "running = True\n",
    "while running:\n",
    "    for event in pygame.event.get():\n",
    "        if event.type == pygame.QUIT:\n",
    "            running = False\n",
    "            \n",
    "    screen.fill(background_color)\n",
    "    \n",
    "    pygame.draw.circle(screen, (0,0,0), (200,200), 40, 5)\n",
    "    pygame.draw.circle(screen, (0,0,0), (400,400), 150, 2)\n",
    "    pygame.draw.circle(screen, (0,0,0), (600,250), 80, 0)\n",
    "    pygame.display.flip()\n",
    "    \n",
    "pygame.quit()"
   ]
  },
  {
   "cell_type": "markdown",
   "id": "daabf7f4",
   "metadata": {},
   "source": [
    "### Динамика"
   ]
  },
  {
   "cell_type": "code",
   "execution_count": 13,
   "id": "ad046989",
   "metadata": {},
   "outputs": [],
   "source": [
    "import pygame\n",
    "\n",
    "position = [300,300]\n",
    "\n",
    "background_color = (255,255,0)\n",
    "(width, height) = (840, 480)\n",
    "\n",
    "screen = pygame.display.set_mode((width, height))\n",
    "pygame.display.set_caption('Первое окно')\n",
    "\n",
    "running = True\n",
    "while running:\n",
    "    for event in pygame.event.get():\n",
    "        if event.type == pygame.QUIT:\n",
    "            running = False\n",
    "            \n",
    "    screen.fill(background_color)\n",
    "    \n",
    "    position[0] += random.randint(-2,2)\n",
    "    position[1] += random.randint(-2,2)\n",
    "    \n",
    "    pygame.draw.circle(screen, (0,0,0), (200,200), 40, 5)\n",
    "    pygame.draw.circle(screen, (0,0,0), (400,400), 150, 2)\n",
    "    pygame.draw.circle(screen, (0,0,0), tuple(position), 80, 0)\n",
    "    pygame.display.flip()\n",
    "    \n",
    "pygame.quit()"
   ]
  },
  {
   "cell_type": "markdown",
   "id": "ed52817a",
   "metadata": {},
   "source": [
    "## Работа с объектами в pygame"
   ]
  },
  {
   "cell_type": "code",
   "execution_count": 7,
   "id": "61fcbfa2",
   "metadata": {},
   "outputs": [],
   "source": [
    "class Particle():\n",
    "    \n",
    "    def __init__(self, radius, mass, position):\n",
    "        self.radius = radius\n",
    "        self.mass = mass\n",
    "        self.position = position\n",
    "        \n",
    "    def move(self):\n",
    "        self.position[0] += random.randint(-2,2)\n",
    "        self.position[1] += random.randint(-2,2)\n",
    "        \n",
    "    def draw(self):\n",
    "        pygame.draw.circle(screen, (0,0,0), tuple(self.position), \n",
    "                           self.radius, 2)\n",
    "        \n",
    "        \n",
    "#######################################################\n",
    "\n",
    "my_particles = []\n",
    "num = 10\n",
    "\n",
    "for i in range(num):\n",
    "    p = Particle(random.randint(10,30), random.randint(10,20), [420,240])\n",
    "    my_particles.append(p)\n",
    "\n",
    "#######################################################\n",
    "\n",
    "import pygame\n",
    "\n",
    "background_color = (255,255,0)\n",
    "(width, height) = (840, 480)\n",
    "\n",
    "screen = pygame.display.set_mode((width, height))\n",
    "pygame.display.set_caption('Случайные блуждания частиц')\n",
    "\n",
    "running = True\n",
    "while running:\n",
    "    for event in pygame.event.get():\n",
    "        if event.type == pygame.QUIT:\n",
    "            running = False\n",
    "            \n",
    "    screen.fill(background_color)\n",
    "    \n",
    "    for i in my_particles:\n",
    "        i.move()\n",
    "        i.draw()\n",
    "    \n",
    "    pygame.display.flip()\n",
    "    \n",
    "pygame.quit()"
   ]
  },
  {
   "cell_type": "markdown",
   "id": "ebb81c07",
   "metadata": {},
   "source": [
    "# ДЗ #1\n",
    "\n",
    "Отрисовывать частицы в виде кругов и связать цвет частиц с их массой (чем тяжелее частица, тем она темнее)"
   ]
  },
  {
   "cell_type": "code",
   "execution_count": 10,
   "id": "49f789fc",
   "metadata": {},
   "outputs": [],
   "source": [
    "import pygame\n",
    "import random\n",
    "\n",
    "\n",
    "MIN_MASS = 10\n",
    "MAX_MASS = 20\n",
    "NUM = 10\n",
    "BACKGROUND_COLOR = (255,255,0)\n",
    "(WIDTH, HEIGHT) = (840, 480)\n",
    "\n",
    "class Particle():\n",
    "\n",
    "    def __init__(self, radius, mass, position):\n",
    "        self.radius = radius\n",
    "        self.mass = mass\n",
    "        self.color = (0, 0, 255 - 255 * (self.mass - MIN_MASS)/(MAX_MASS-MIN_MASS))\n",
    "        self.position = position\n",
    "\n",
    "    def move(self):\n",
    "        self.position[0] += random.randint(-1,1)\n",
    "        self.position[1] += random.randint(-1,1)\n",
    "\n",
    "    def draw(self):\n",
    "        pygame.draw.circle(screen, self.color, tuple(self.position),\n",
    "                           self.radius)\n",
    "\n",
    "\n",
    "#######################################################\n",
    "\n",
    "my_particles = []\n",
    "\n",
    "for i in range(NUM):\n",
    "    p = Particle(random.randint(10,30), random.randint(MIN_MASS,MAX_MASS), [420,240])\n",
    "    my_particles.append(p)\n",
    "\n",
    "#######################################################\n",
    "\n",
    "screen = pygame.display.set_mode((WIDTH, HEIGHT))\n",
    "pygame.display.set_caption('Случайные блуждания частиц')\n",
    "\n",
    "running = True\n",
    "while running:\n",
    "    for event in pygame.event.get():\n",
    "        if event.type == pygame.QUIT:\n",
    "            running = False\n",
    "\n",
    "    screen.fill(BACKGROUND_COLOR)\n",
    "\n",
    "    for i in my_particles:\n",
    "        i.move()\n",
    "        i.draw()\n",
    "\n",
    "    pygame.display.flip()\n",
    "\n",
    "pygame.quit()"
   ]
  },
  {
   "cell_type": "code",
   "execution_count": null,
   "outputs": [],
   "source": [],
   "metadata": {
    "collapsed": false
   }
  }
 ],
 "metadata": {
  "kernelspec": {
   "display_name": "Python 3 (ipykernel)",
   "language": "python",
   "name": "python3"
  },
  "language_info": {
   "codemirror_mode": {
    "name": "ipython",
    "version": 3
   },
   "file_extension": ".py",
   "mimetype": "text/x-python",
   "name": "python",
   "nbconvert_exporter": "python",
   "pygments_lexer": "ipython3",
   "version": "3.8.6"
  }
 },
 "nbformat": 4,
 "nbformat_minor": 5
}
